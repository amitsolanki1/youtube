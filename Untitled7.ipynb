{
  "nbformat": 4,
  "nbformat_minor": 0,
  "metadata": {
    "colab": {
      "name": "Untitled7.ipynb",
      "provenance": [],
      "authorship_tag": "ABX9TyOucku9w+vmWlNMfF5oasxt",
      "include_colab_link": true
    },
    "kernelspec": {
      "name": "python3",
      "display_name": "Python 3"
    },
    "language_info": {
      "name": "python"
    }
  },
  "cells": [
    {
      "cell_type": "markdown",
      "metadata": {
        "id": "view-in-github",
        "colab_type": "text"
      },
      "source": [
        "<a href=\"https://colab.research.google.com/github/amitsolanki1/youtube/blob/Main/Untitled7.ipynb\" target=\"_parent\"><img src=\"https://colab.research.google.com/assets/colab-badge.svg\" alt=\"Open In Colab\"/></a>"
      ]
    },
    {
      "cell_type": "code",
      "execution_count": 17,
      "metadata": {
        "colab": {
          "base_uri": "https://localhost:8080/"
        },
        "id": "M5nuqpGZkDLE",
        "outputId": "9033af33-c2fa-4b44-f893-61c434190799"
      },
      "outputs": [
        {
          "output_type": "stream",
          "name": "stdout",
          "text": [
            ">https://youtu.be/qj4Ot2UcGxw\n",
            "Task Completed!\n"
          ]
        }
      ],
      "source": [
        "\n",
        "\n",
        "# importing the module\n",
        "from pytube import YouTube\n",
        "\n",
        "# where to save\n",
        "SAVE_PATH = \"F:/\" #to_do\n",
        "\n",
        "# link of the video to be downloaded\n",
        "link=str(input(\">\"))\n",
        "\n",
        "try:\n",
        "\t# object creation using YouTube\n",
        "\t# which was imported in the beginning\n",
        "\tyt = YouTube(link)\n",
        "except:\n",
        "\tprint(\"Connection Error\") #to handle exception\n",
        "\n",
        "\n",
        "\n",
        "\n",
        "# url = YouTube(link.get())) #This captures the link(url) and locates it from YouTube.\n",
        "video = yt.streams.first() # This captures the streams available for downloaded for the video i.e. 360p, 720p, 1080p. etc.\n",
        "\n",
        "video = yt.streams.filter(progressive=True, file_extension='mp4').order_by('resolution').desc().first()\n",
        "   \n",
        "video.download(SAVE_PATH) #\n",
        "# filters out all the files with \"mp4\" extension\n",
        "# mp4files = yt.filter('mp4')\n",
        "\n",
        "# #to set the name of the file\n",
        "# yt.set_filename('GeeksforGeeks Video')\n",
        "\n",
        "# # get the video with the extension and\n",
        "# # resolution passed in the get() function\n",
        "# d_video = yt.get(mp4files[-1].extension,mp4files[-1].resolution)\n",
        "# try:\n",
        "# \t# downloading the video\n",
        "# \td_video.download(SAVE_PATH)\n",
        "# except:\n",
        "\t# print(\"Some Error!\")\n",
        "print('Task Completed!')\n"
      ]
    },
    {
      "cell_type": "code",
      "source": [
        "!pip install pytube"
      ],
      "metadata": {
        "colab": {
          "base_uri": "https://localhost:8080/"
        },
        "id": "4o46oDgukPFd",
        "outputId": "2fa4435c-a61e-4928-8dde-f2337fa2ea53"
      },
      "execution_count": 1,
      "outputs": [
        {
          "output_type": "stream",
          "name": "stdout",
          "text": [
            "Looking in indexes: https://pypi.org/simple, https://us-python.pkg.dev/colab-wheels/public/simple/\n",
            "Collecting pytube\n",
            "  Downloading pytube-12.1.0-py3-none-any.whl (56 kB)\n",
            "\u001b[K     |████████████████████████████████| 56 kB 2.5 MB/s \n",
            "\u001b[?25hInstalling collected packages: pytube\n",
            "Successfully installed pytube-12.1.0\n"
          ]
        }
      ]
    }
  ]
}